{
 "cells": [
  {
   "cell_type": "markdown",
   "metadata": {},
   "source": [
    "# 1.利用DDE获取DataHub数据\n",
    "### 1.1.需抓取的tagname清单以TXT文档形式维护filename = \"./tagname.txt\"\n",
    "### 1.2.获取的value抓换为数组并构造成JSON\n"
   ]
  },
  {
   "cell_type": "code",
   "execution_count": 1,
   "metadata": {},
   "outputs": [],
   "source": [
    "from win32com.client import Dispatch\n",
    "from datetime import datetime \n",
    "import time\n",
    "import json\n",
    "import requests\n",
    "import schedule\n",
    "import psutil\n",
    "import os\n",
    "from apscheduler.schedulers.blocking import BlockingScheduler\n",
    "import pythoncom"
   ]
  },
  {
   "cell_type": "markdown",
   "metadata": {},
   "source": [
    "### 1.1.打开tagname文件并保存为数组"
   ]
  },
  {
   "cell_type": "code",
   "execution_count": 2,
   "metadata": {},
   "outputs": [],
   "source": [
    "def Opentxt(file):\n",
    "    taglist = []\n",
    "    with open(file,'r') as txt:\n",
    "        for line in txt.readlines():\n",
    "            if \"Root.\" in line:\n",
    "                taglist.append(line.replace(\"\\n\",\".Value\"))\n",
    "                result=','.join(taglist)\n",
    "    return result"
   ]
  },
  {
   "cell_type": "markdown",
   "metadata": {},
   "source": [
    "#### 获取实时时间函数"
   ]
  },
  {
   "cell_type": "code",
   "execution_count": 3,
   "metadata": {},
   "outputs": [],
   "source": [
    "def timefunc():\n",
    "    SpotTime = datetime.now().strftime(\"%Y/%m/%d %H:%M:%S\")\n",
    "    return SpotTime"
   ]
  },
  {
   "cell_type": "markdown",
   "metadata": {},
   "source": [
    "### 1.2.获取数据并转换为JSON格式"
   ]
  },
  {
   "cell_type": "code",
   "execution_count": 4,
   "metadata": {},
   "outputs": [],
   "source": [
    "def ddefunc(datahubname,topic,filename,txtname):\n",
    "    pythoncom.CoInitialize()\n",
    "    xlApp = Dispatch(\"Excel.Application\")\n",
    "    xlApp.Visible = 0 #隐藏\n",
    "    xlApp.Application.DisplayAlerts = 0 #禁止弹出会话\n",
    "    nChan = xlApp.Application.DDEInitiate(datahubname, topic) #datahub名称\n",
    "    arrname = Opentxt(filename).split(\",\")   #tagname\n",
    "    timestamp = timefunc()    #timestamp\n",
    "    ValueResult = []\n",
    "    Jsonlist = []\n",
    "    if(os.path.exists(txtname)):\n",
    "        os.remove(txtname)\n",
    "    for i in arrname:\n",
    "        repi = i.replace(\".value\",\"\")\n",
    "        DDEVALUE = xlApp.DDErequest(nChan, i)\n",
    "#         print(DDEVALUE)\n",
    "        \n",
    "        if not DDEVALUE[0]:\n",
    "            pass\n",
    "        else:\n",
    "            linex = 'TAGNAME='+i.replace(\".Value\",\"\")+ '\\n'\n",
    "            liney = 'ITEM=VALUE,VALUE={},TIMESTAMP={},QUALITY=192'.format(DDEVALUE[0],timestamp)+ '\\n'\n",
    "            linez = linex+liney\n",
    "#             print(linez)\n",
    "            with open(txtname,\"a+\") as f:\n",
    "                    f.write(linez)"
   ]
  },
  {
   "cell_type": "markdown",
   "metadata": {},
   "source": [
    "# 2.webapi函数\n",
    "### 2.1.返回信息日志\n",
    "### 2.2.API函数构造"
   ]
  },
  {
   "cell_type": "markdown",
   "metadata": {},
   "source": [
    "#### 日志文件生成及放回信息状态"
   ]
  },
  {
   "cell_type": "markdown",
   "metadata": {},
   "source": [
    "def log(logtxt):\n",
    "    logtm = time.strftime(\"%Y%m%d\"\"%H%M%S\", time.localtime())\n",
    "    file = r\".\\log\" + logtm + '.log'\n",
    "    with open(file,'w') as f:\n",
    "        f.write(logtxt)\n",
    "    # print(\"日志写入成功！\")"
   ]
  },
  {
   "cell_type": "code",
   "execution_count": 5,
   "metadata": {},
   "outputs": [],
   "source": [
    "def log(logtxt):\n",
    "    logyear = time.strftime(\"%Y\", time.localtime())\n",
    "    logmoth = time.strftime(\"%m\", time.localtime())\n",
    "    logday = time.strftime(\"%d\", time.localtime())\n",
    "    logtm = time.strftime(\"%H%M%S\", time.localtime())\n",
    "    file_path = '{}/{}/{}'.format(logyear,logmoth,logday)  # 此处也可以使用nowTime或hourTime，看你想使用哪种格式了。\n",
    "    print(file_path)\n",
    "    # 判断文件夹是否已存在\n",
    "    isExists = os.path.exists(file_path)\n",
    "    if not isExists:\n",
    "        os.makedirs(file_path )        \n",
    "    file = os.getcwd()+\"\\\\\" + logyear +\"\\\\\" + logmoth +\"\\\\\" + logday +\"\\\\\"+ logtm + '.log'\n",
    "#     file = os.getcwd()+\"\\\\\" + logyear +\"\\\\\"+ logtm + '.log'\n",
    "    print(file)\n",
    "    with open(file,'w') as f:\n",
    "        f.write(logtxt)\n",
    "    # print(\"日志写入成功！\")"
   ]
  },
  {
   "cell_type": "markdown",
   "metadata": {},
   "source": [
    "# 3.主函数构造\n",
    "### 传入名称 文档地址 api接口地址"
   ]
  },
  {
   "cell_type": "code",
   "execution_count": 6,
   "metadata": {},
   "outputs": [],
   "source": [
    "def main1():\n",
    "    datahubname = \"JSPIMSTEST\"\n",
    "    topic = \"JSPIMSTEST\"\n",
    "    filename = r\".\\CSGAPCTags.txt\"\n",
    "    txtname = 'qtfs.txt'\n",
    "    ddefunc(datahubname,topic,filename,txtname)\n",
    "    \n",
    "#     url = \"www.baidu.com\"\n",
    "#     url = \"https://safety.ccpgp.com.cn/wuwei/API/PIMStoWWYTZDWXY_API.jsp\"\n",
    "#     webapi(RTvalue,url)\n",
    "    print(\"*****\"*5)\n",
    "    print(datetime.now().strftime(\"%Y/%m/%d %H:%M:%S\"))\n",
    "    print ('当前进程的内存使用：',psutil.Process(os.getpid()).memory_info().rss)\n",
    "    print ('当前进程的内存使用：%.4f GB' % (psutil.Process(os.getpid()).memory_info().rss / 1024 / 1024 / 1024) )\n",
    "    print(\"*****\"*5)"
   ]
  },
  {
   "cell_type": "code",
   "execution_count": 7,
   "metadata": {},
   "outputs": [],
   "source": [
    "def main2():\n",
    "    datahubname = \"JSPIMSTEST\"\n",
    "    topic = \"JSPIMSTEST\"\n",
    "    filename = r\".\\CSGAPCTags1.txt\"\n",
    "    txtname = 'qtfs1.txt'\n",
    "    ddefunc(datahubname,topic,filename,txtname)\n",
    "    \n",
    "#     url = \"www.baidu.com\"\n",
    "#     url = \"https://safety.ccpgp.com.cn/wuwei/API/PIMStoWWYTZDWXY_API.jsp\"\n",
    "#     webapi(RTvalue,url)\n",
    "    print(\"*****\"*5)\n",
    "    print(datetime.now().strftime(\"%Y/%m/%d %H:%M:%S\"))\n",
    "    print ('当前进程的内存使用：',psutil.Process(os.getpid()).memory_info().rss)\n",
    "    print ('当前进程的内存使用：%.4f GB' % (psutil.Process(os.getpid()).memory_info().rss / 1024 / 1024 / 1024) )\n",
    "    print(\"*****\"*5)"
   ]
  },
  {
   "cell_type": "markdown",
   "metadata": {},
   "source": [
    "# 4.定时任务"
   ]
  },
  {
   "cell_type": "code",
   "execution_count": 8,
   "metadata": {
    "scrolled": true
   },
   "outputs": [],
   "source": [
    "# if __name__ == \"__main__\":\n",
    "#     schedule.every(5).seconds.do(main) \n",
    "#     while True:\n",
    "#         schedule.run_pending()   # 运行所有可以运行的任务\n",
    "# #         time.sleep(1)"
   ]
  },
  {
   "cell_type": "code",
   "execution_count": 9,
   "metadata": {
    "scrolled": true
   },
   "outputs": [
    {
     "name": "stdout",
     "output_type": "stream",
     "text": [
      "*************************\n",
      "2021/04/28 15:55:58\n",
      "当前进程的内存使用： 82755584\n",
      "当前进程的内存使用：0.0771 GB\n",
      "*************************\n",
      "*************************\n",
      "2021/04/28 15:56:04\n",
      "当前进程的内存使用： 82853888\n",
      "当前进程的内存使用：0.0772 GB\n",
      "*************************\n",
      "*************************\n",
      "2021/04/28 15:57:58\n",
      "当前进程的内存使用： 82898944\n",
      "当前进程的内存使用：0.0772 GB\n",
      "*************************\n",
      "*************************\n",
      "2021/04/28 15:58:04\n",
      "当前进程的内存使用： 82931712\n",
      "当前进程的内存使用：0.0772 GB\n",
      "*************************\n",
      "*************************\n",
      "2021/04/28 15:59:58\n",
      "当前进程的内存使用： 83013632\n",
      "当前进程的内存使用：0.0773 GB\n",
      "*************************\n",
      "*************************\n",
      "2021/04/28 16:00:04\n",
      "当前进程的内存使用： 83058688\n",
      "当前进程的内存使用：0.0774 GB\n",
      "*************************\n",
      "*************************\n",
      "2021/04/28 16:01:58\n",
      "当前进程的内存使用： 83410944\n",
      "当前进程的内存使用：0.0777 GB\n",
      "*************************\n",
      "*************************\n",
      "2021/04/28 16:02:04\n",
      "当前进程的内存使用： 83382272\n",
      "当前进程的内存使用：0.0777 GB\n",
      "*************************\n",
      "*************************\n",
      "2021/04/28 16:03:58\n",
      "当前进程的内存使用： 83447808\n",
      "当前进程的内存使用：0.0777 GB\n",
      "*************************\n",
      "*************************\n",
      "2021/04/28 16:04:04\n",
      "当前进程的内存使用： 83480576\n",
      "当前进程的内存使用：0.0777 GB\n",
      "*************************\n",
      "*************************\n",
      "2021/04/28 16:05:58\n",
      "当前进程的内存使用： 83517440\n",
      "当前进程的内存使用：0.0778 GB\n",
      "*************************\n",
      "*************************\n",
      "2021/04/28 16:06:04\n",
      "当前进程的内存使用： 83521536\n",
      "当前进程的内存使用：0.0778 GB\n",
      "*************************\n",
      "*************************\n",
      "2021/04/28 16:07:58\n",
      "当前进程的内存使用： 83570688\n",
      "当前进程的内存使用：0.0778 GB\n",
      "*************************\n",
      "*************************\n",
      "2021/04/28 16:08:04\n",
      "当前进程的内存使用： 83623936\n",
      "当前进程的内存使用：0.0779 GB\n",
      "*************************\n"
     ]
    },
    {
     "ename": "KeyboardInterrupt",
     "evalue": "",
     "output_type": "error",
     "traceback": [
      "\u001b[1;31m---------------------------------------------------------------------------\u001b[0m",
      "\u001b[1;31mKeyboardInterrupt\u001b[0m                         Traceback (most recent call last)",
      "\u001b[1;32m<ipython-input-9-aa06782b4879>\u001b[0m in \u001b[0;36m<module>\u001b[1;34m\u001b[0m\n\u001b[0;32m     24\u001b[0m \u001b[1;33m\u001b[0m\u001b[0m\n\u001b[0;32m     25\u001b[0m \u001b[1;32mif\u001b[0m \u001b[0m__name__\u001b[0m \u001b[1;33m==\u001b[0m \u001b[1;34m'__main__'\u001b[0m\u001b[1;33m:\u001b[0m\u001b[1;33m\u001b[0m\u001b[1;33m\u001b[0m\u001b[0m\n\u001b[1;32m---> 26\u001b[1;33m     \u001b[0mmain\u001b[0m\u001b[1;33m(\u001b[0m\u001b[1;33m)\u001b[0m\u001b[1;33m\u001b[0m\u001b[1;33m\u001b[0m\u001b[0m\n\u001b[0m",
      "\u001b[1;32m<ipython-input-9-aa06782b4879>\u001b[0m in \u001b[0;36mmain\u001b[1;34m()\u001b[0m\n\u001b[0;32m     17\u001b[0m     \u001b[0mscheduler\u001b[0m\u001b[1;33m.\u001b[0m\u001b[0madd_job\u001b[0m\u001b[1;33m(\u001b[0m\u001b[0mjob1\u001b[0m\u001b[1;33m,\u001b[0m \u001b[1;34m'interval'\u001b[0m\u001b[1;33m,\u001b[0m \u001b[0mseconds\u001b[0m\u001b[1;33m=\u001b[0m\u001b[1;36m120\u001b[0m\u001b[1;33m)\u001b[0m\u001b[1;33m\u001b[0m\u001b[1;33m\u001b[0m\u001b[0m\n\u001b[0;32m     18\u001b[0m     \u001b[1;32mtry\u001b[0m\u001b[1;33m:\u001b[0m\u001b[1;33m\u001b[0m\u001b[1;33m\u001b[0m\u001b[0m\n\u001b[1;32m---> 19\u001b[1;33m         \u001b[0mscheduler\u001b[0m\u001b[1;33m.\u001b[0m\u001b[0mstart\u001b[0m\u001b[1;33m(\u001b[0m\u001b[1;33m)\u001b[0m\u001b[1;33m\u001b[0m\u001b[1;33m\u001b[0m\u001b[0m\n\u001b[0m\u001b[0;32m     20\u001b[0m     \u001b[1;32mexcept\u001b[0m \u001b[0mException\u001b[0m \u001b[1;32mas\u001b[0m \u001b[0merr\u001b[0m\u001b[1;33m:\u001b[0m\u001b[1;33m\u001b[0m\u001b[1;33m\u001b[0m\u001b[0m\n\u001b[0;32m     21\u001b[0m         \u001b[0mprint\u001b[0m\u001b[1;33m(\u001b[0m\u001b[0merr\u001b[0m\u001b[1;33m)\u001b[0m\u001b[1;33m\u001b[0m\u001b[1;33m\u001b[0m\u001b[0m\n",
      "\u001b[1;32mC:\\Anaconda3\\lib\\site-packages\\apscheduler\\schedulers\\blocking.py\u001b[0m in \u001b[0;36mstart\u001b[1;34m(self, *args, **kwargs)\u001b[0m\n\u001b[0;32m     19\u001b[0m \u001b[1;33m\u001b[0m\u001b[0m\n\u001b[0;32m     20\u001b[0m         \u001b[0msuper\u001b[0m\u001b[1;33m(\u001b[0m\u001b[0mBlockingScheduler\u001b[0m\u001b[1;33m,\u001b[0m \u001b[0mself\u001b[0m\u001b[1;33m)\u001b[0m\u001b[1;33m.\u001b[0m\u001b[0mstart\u001b[0m\u001b[1;33m(\u001b[0m\u001b[1;33m*\u001b[0m\u001b[0margs\u001b[0m\u001b[1;33m,\u001b[0m \u001b[1;33m**\u001b[0m\u001b[0mkwargs\u001b[0m\u001b[1;33m)\u001b[0m\u001b[1;33m\u001b[0m\u001b[1;33m\u001b[0m\u001b[0m\n\u001b[1;32m---> 21\u001b[1;33m         \u001b[0mself\u001b[0m\u001b[1;33m.\u001b[0m\u001b[0m_main_loop\u001b[0m\u001b[1;33m(\u001b[0m\u001b[1;33m)\u001b[0m\u001b[1;33m\u001b[0m\u001b[1;33m\u001b[0m\u001b[0m\n\u001b[0m\u001b[0;32m     22\u001b[0m \u001b[1;33m\u001b[0m\u001b[0m\n\u001b[0;32m     23\u001b[0m     \u001b[1;32mdef\u001b[0m \u001b[0mshutdown\u001b[0m\u001b[1;33m(\u001b[0m\u001b[0mself\u001b[0m\u001b[1;33m,\u001b[0m \u001b[0mwait\u001b[0m\u001b[1;33m=\u001b[0m\u001b[1;32mTrue\u001b[0m\u001b[1;33m)\u001b[0m\u001b[1;33m:\u001b[0m\u001b[1;33m\u001b[0m\u001b[1;33m\u001b[0m\u001b[0m\n",
      "\u001b[1;32mC:\\Anaconda3\\lib\\site-packages\\apscheduler\\schedulers\\blocking.py\u001b[0m in \u001b[0;36m_main_loop\u001b[1;34m(self)\u001b[0m\n\u001b[0;32m     28\u001b[0m         \u001b[0mwait_seconds\u001b[0m \u001b[1;33m=\u001b[0m \u001b[0mTIMEOUT_MAX\u001b[0m\u001b[1;33m\u001b[0m\u001b[1;33m\u001b[0m\u001b[0m\n\u001b[0;32m     29\u001b[0m         \u001b[1;32mwhile\u001b[0m \u001b[0mself\u001b[0m\u001b[1;33m.\u001b[0m\u001b[0mstate\u001b[0m \u001b[1;33m!=\u001b[0m \u001b[0mSTATE_STOPPED\u001b[0m\u001b[1;33m:\u001b[0m\u001b[1;33m\u001b[0m\u001b[1;33m\u001b[0m\u001b[0m\n\u001b[1;32m---> 30\u001b[1;33m             \u001b[0mself\u001b[0m\u001b[1;33m.\u001b[0m\u001b[0m_event\u001b[0m\u001b[1;33m.\u001b[0m\u001b[0mwait\u001b[0m\u001b[1;33m(\u001b[0m\u001b[0mwait_seconds\u001b[0m\u001b[1;33m)\u001b[0m\u001b[1;33m\u001b[0m\u001b[1;33m\u001b[0m\u001b[0m\n\u001b[0m\u001b[0;32m     31\u001b[0m             \u001b[0mself\u001b[0m\u001b[1;33m.\u001b[0m\u001b[0m_event\u001b[0m\u001b[1;33m.\u001b[0m\u001b[0mclear\u001b[0m\u001b[1;33m(\u001b[0m\u001b[1;33m)\u001b[0m\u001b[1;33m\u001b[0m\u001b[1;33m\u001b[0m\u001b[0m\n\u001b[0;32m     32\u001b[0m             \u001b[0mwait_seconds\u001b[0m \u001b[1;33m=\u001b[0m \u001b[0mself\u001b[0m\u001b[1;33m.\u001b[0m\u001b[0m_process_jobs\u001b[0m\u001b[1;33m(\u001b[0m\u001b[1;33m)\u001b[0m\u001b[1;33m\u001b[0m\u001b[1;33m\u001b[0m\u001b[0m\n",
      "\u001b[1;32mC:\\Anaconda3\\lib\\threading.py\u001b[0m in \u001b[0;36mwait\u001b[1;34m(self, timeout)\u001b[0m\n\u001b[0;32m    549\u001b[0m             \u001b[0msignaled\u001b[0m \u001b[1;33m=\u001b[0m \u001b[0mself\u001b[0m\u001b[1;33m.\u001b[0m\u001b[0m_flag\u001b[0m\u001b[1;33m\u001b[0m\u001b[1;33m\u001b[0m\u001b[0m\n\u001b[0;32m    550\u001b[0m             \u001b[1;32mif\u001b[0m \u001b[1;32mnot\u001b[0m \u001b[0msignaled\u001b[0m\u001b[1;33m:\u001b[0m\u001b[1;33m\u001b[0m\u001b[1;33m\u001b[0m\u001b[0m\n\u001b[1;32m--> 551\u001b[1;33m                 \u001b[0msignaled\u001b[0m \u001b[1;33m=\u001b[0m \u001b[0mself\u001b[0m\u001b[1;33m.\u001b[0m\u001b[0m_cond\u001b[0m\u001b[1;33m.\u001b[0m\u001b[0mwait\u001b[0m\u001b[1;33m(\u001b[0m\u001b[0mtimeout\u001b[0m\u001b[1;33m)\u001b[0m\u001b[1;33m\u001b[0m\u001b[1;33m\u001b[0m\u001b[0m\n\u001b[0m\u001b[0;32m    552\u001b[0m             \u001b[1;32mreturn\u001b[0m \u001b[0msignaled\u001b[0m\u001b[1;33m\u001b[0m\u001b[1;33m\u001b[0m\u001b[0m\n\u001b[0;32m    553\u001b[0m \u001b[1;33m\u001b[0m\u001b[0m\n",
      "\u001b[1;32mC:\\Anaconda3\\lib\\threading.py\u001b[0m in \u001b[0;36mwait\u001b[1;34m(self, timeout)\u001b[0m\n\u001b[0;32m    297\u001b[0m             \u001b[1;32melse\u001b[0m\u001b[1;33m:\u001b[0m\u001b[1;33m\u001b[0m\u001b[1;33m\u001b[0m\u001b[0m\n\u001b[0;32m    298\u001b[0m                 \u001b[1;32mif\u001b[0m \u001b[0mtimeout\u001b[0m \u001b[1;33m>\u001b[0m \u001b[1;36m0\u001b[0m\u001b[1;33m:\u001b[0m\u001b[1;33m\u001b[0m\u001b[1;33m\u001b[0m\u001b[0m\n\u001b[1;32m--> 299\u001b[1;33m                     \u001b[0mgotit\u001b[0m \u001b[1;33m=\u001b[0m \u001b[0mwaiter\u001b[0m\u001b[1;33m.\u001b[0m\u001b[0macquire\u001b[0m\u001b[1;33m(\u001b[0m\u001b[1;32mTrue\u001b[0m\u001b[1;33m,\u001b[0m \u001b[0mtimeout\u001b[0m\u001b[1;33m)\u001b[0m\u001b[1;33m\u001b[0m\u001b[1;33m\u001b[0m\u001b[0m\n\u001b[0m\u001b[0;32m    300\u001b[0m                 \u001b[1;32melse\u001b[0m\u001b[1;33m:\u001b[0m\u001b[1;33m\u001b[0m\u001b[1;33m\u001b[0m\u001b[0m\n\u001b[0;32m    301\u001b[0m                     \u001b[0mgotit\u001b[0m \u001b[1;33m=\u001b[0m \u001b[0mwaiter\u001b[0m\u001b[1;33m.\u001b[0m\u001b[0macquire\u001b[0m\u001b[1;33m(\u001b[0m\u001b[1;32mFalse\u001b[0m\u001b[1;33m)\u001b[0m\u001b[1;33m\u001b[0m\u001b[1;33m\u001b[0m\u001b[0m\n",
      "\u001b[1;31mKeyboardInterrupt\u001b[0m: "
     ]
    }
   ],
   "source": [
    "def ramused():\n",
    "    curr_pid = os.getpid()\n",
    "    currApp = psutil.Process(curr_pid)\n",
    "    currApp_ramused = currApp.memory_full_info()\n",
    "    usedram = currApp_ramused.uss / 1024. / 1024. / 1024.\n",
    "    return usedram\n",
    "\n",
    "\n",
    "def job1():\n",
    "    main1()\n",
    "    time.sleep(5)\n",
    "    main2()\n",
    "\n",
    "\n",
    "def main():\n",
    "    scheduler = BlockingScheduler()\n",
    "    scheduler.add_job(job1, 'interval', seconds=120)\n",
    "    try:\n",
    "        scheduler.start()\n",
    "    except Exception as err:\n",
    "        print(err)\n",
    "        return\n",
    "\n",
    "\n",
    "if __name__ == '__main__':\n",
    "    main()"
   ]
  },
  {
   "cell_type": "code",
   "execution_count": null,
   "metadata": {},
   "outputs": [],
   "source": []
  }
 ],
 "metadata": {
  "kernelspec": {
   "display_name": "Python 3",
   "language": "python",
   "name": "python3"
  },
  "language_info": {
   "codemirror_mode": {
    "name": "ipython",
    "version": 3
   },
   "file_extension": ".py",
   "mimetype": "text/x-python",
   "name": "python",
   "nbconvert_exporter": "python",
   "pygments_lexer": "ipython3",
   "version": "3.6.13"
  }
 },
 "nbformat": 4,
 "nbformat_minor": 4
}
